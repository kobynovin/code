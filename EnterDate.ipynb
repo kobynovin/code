{
  "nbformat": 4,
  "nbformat_minor": 0,
  "metadata": {
    "colab": {
      "provenance": [],
      "authorship_tag": "ABX9TyPJaTul7UMB4ctxiL98HyoF",
      "include_colab_link": true
    },
    "kernelspec": {
      "name": "python3",
      "display_name": "Python 3"
    },
    "language_info": {
      "name": "python"
    }
  },
  "cells": [
    {
      "cell_type": "markdown",
      "metadata": {
        "id": "view-in-github",
        "colab_type": "text"
      },
      "source": [
        "<a href=\"https://colab.research.google.com/github/kobynovin/code/blob/main/EnterDate.ipynb\" target=\"_parent\"><img src=\"https://colab.research.google.com/assets/colab-badge.svg\" alt=\"Open In Colab\"/></a>"
      ]
    },
    {
      "cell_type": "code",
      "source": [
        "EnterDate = input('Enter Date (MM/DD/YYYY):')\n",
        "month = EnterDate[:2]\n",
        "print(month)\n",
        "day = EnterDate[3:5]\n",
        "print(day)\n",
        "year = EnterDate[6:10]\n",
        "print(year)"
      ],
      "metadata": {
        "colab": {
          "base_uri": "https://localhost:8080/"
        },
        "id": "OTJiLC3huOey",
        "outputId": "27aece79-bd86-49a2-b0d7-0bb68121b2cb"
      },
      "execution_count": 2,
      "outputs": [
        {
          "output_type": "stream",
          "name": "stdout",
          "text": [
            "Enter Date (MM/DD/YYYY):06/27/2004\n",
            "06\n",
            "27\n",
            "2004\n"
          ]
        }
      ]
    },
    {
      "cell_type": "code",
      "source": [],
      "metadata": {
        "id": "y4g9y0kLuhAb"
      },
      "execution_count": null,
      "outputs": []
    },
    {
      "cell_type": "code",
      "execution_count": null,
      "metadata": {
        "id": "qyjumIeLuMJc"
      },
      "outputs": [],
      "source": []
    }
  ]
}