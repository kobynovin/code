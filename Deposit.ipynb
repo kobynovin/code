{
  "nbformat": 4,
  "nbformat_minor": 0,
  "metadata": {
    "colab": {
      "provenance": [],
      "authorship_tag": "ABX9TyO3EnQpBqpZwRxA1Xac49eU",
      "include_colab_link": true
    },
    "kernelspec": {
      "name": "python3",
      "display_name": "Python 3"
    },
    "language_info": {
      "name": "python"
    }
  },
  "cells": [
    {
      "cell_type": "markdown",
      "metadata": {
        "id": "view-in-github",
        "colab_type": "text"
      },
      "source": [
        "<a href=\"https://colab.research.google.com/github/kobynovin/code/blob/main/Deposit.ipynb\" target=\"_parent\"><img src=\"https://colab.research.google.com/assets/colab-badge.svg\" alt=\"Open In Colab\"/></a>"
      ]
    },
    {
      "cell_type": "code",
      "execution_count": null,
      "metadata": {
        "id": "tEFHDg-F3b2K"
      },
      "outputs": [],
      "source": [
        "customer_type = input('Enter customer type (n: new e: existing)')\n",
        "deposit= float(input('Enter Deposit amount: '))\n",
        "\n",
        "if customer_type == 'n':\n",
        "  if deposit > 10000:\n",
        "    ir = 3.5\n",
        "  elif deposit <= 1000:\n",
        "    ir = 3.0\n",
        "  else:\n",
        "    ir = 3.25\n",
        "else:\n",
        "  ir = 3.0\n",
        "\n",
        "total = (1 + ir/100) * deposit\n",
        "print(f'Deposit at the end of year: {round(total, 2)}')\n",
        "\n",
        "\n",
        "\n"
      ]
    }
  ]
}