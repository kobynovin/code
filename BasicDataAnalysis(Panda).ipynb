{
  "cells": [
    {
      "cell_type": "markdown",
      "metadata": {
        "id": "view-in-github",
        "colab_type": "text"
      },
      "source": [
        "<a href=\"https://colab.research.google.com/github/kobynovin/code/blob/main/BasicDataAnalysis(Panda).ipynb\" target=\"_parent\"><img src=\"https://colab.research.google.com/assets/colab-badge.svg\" alt=\"Open In Colab\"/></a>"
      ]
    },
    {
      "cell_type": "markdown",
      "id": "64d7f59f-248f-4fc8-9597-e1f3b35a9b98",
      "metadata": {
        "id": "64d7f59f-248f-4fc8-9597-e1f3b35a9b98"
      },
      "source": [
        "## Data Analysis assignment (20 points)\n",
        "\n",
        "You have been given the dataset `travel-times` in a CSV format. This dataset comes from a driver that uses an app to track GPS coordinates as he drives to work and back each day. The app collects the location and elevation data. In total, data for about 200 trips are summarized in this data set.\n",
        "\n",
        "Load the `travel-times` in a `df` variable using `pandas` and then perform the following:\n",
        "- print the shape of the dataset **(1 points)**\n",
        "- print the first 15 rows of the dataset **(1 points)**\n",
        "- get information for the features (columns) with missing values **(1 points)**\n",
        "- drop duplicate values (if any) by keeping only the last instance **(1 points)**\n",
        "- calculate the total number of missing values (if any) on each column **(2 points)**\n",
        "- create two copies of the dataframe, and then:\n",
        "    - drop rows with missing values from the 1st copy **(1 points)**\n",
        "    - drop columns with missing values from the 2nd copy **(1 points)**\n",
        "- get summary statistics and see the correlation between the numerical columns **(1 points)**\n",
        "- show rows 11 to 14 **(1 points)**\n",
        "- create a subset with trips occurred on November 23, 2011 and January 6, 2012 **(2 points)**\n",
        "- produce a scatterplot between `Distance` and `TotalTime` **(1 points)**\n",
        "    * Use:\n",
        "```python\n",
        "import matplotlib.pyplot as plt\n",
        "plt.rcParams.update({'font.size': 20, 'figure.figsize': (10, 8)})\n",
        "```\n",
        "- produce boxplots for `AvgSpeed` and `AvgMovingSpeed` (use different cells for each) **(2 points)**"
      ]
    },
    {
      "cell_type": "code",
      "execution_count": 4,
      "id": "3a276345-b8ef-419f-b55a-660d02d6279c",
      "metadata": {
        "id": "3a276345-b8ef-419f-b55a-660d02d6279c"
      },
      "outputs": [],
      "source": [
        "import matplotlib.pyplot as plt\n",
        "import pandas as pd\n",
        "\n",
        "plt.rcParams.update({'font.size': 20, 'figure.figsize': (10, 8)})"
      ]
    },
    {
      "cell_type": "code",
      "source": [
        "#show row, column\n",
        "\n",
        "df = pd.read_csv(\"travel-times.csv\")\n",
        "\n",
        "df.shape\n"
      ],
      "metadata": {
        "colab": {
          "base_uri": "https://localhost:8080/",
          "height": 0
        },
        "id": "Q8x6T-jqnzZX",
        "outputId": "911baeab-f9a3-48e6-ad73-5b17333e611a"
      },
      "id": "Q8x6T-jqnzZX",
      "execution_count": 5,
      "outputs": [
        {
          "output_type": "execute_result",
          "data": {
            "text/plain": [
              "(205, 13)"
            ]
          },
          "metadata": {},
          "execution_count": 5
        }
      ]
    },
    {
      "cell_type": "code",
      "source": [
        "#show 15 rows\n",
        "\n",
        "df.head(15)\n"
      ],
      "metadata": {
        "id": "hWCra3mLppLw"
      },
      "id": "hWCra3mLppLw",
      "execution_count": null,
      "outputs": []
    },
    {
      "cell_type": "code",
      "source": [
        "#show table info (missing values, types)\n",
        "\n",
        "df.info()"
      ],
      "metadata": {
        "id": "6Z0VUYXhp96M"
      },
      "id": "6Z0VUYXhp96M",
      "execution_count": null,
      "outputs": []
    },
    {
      "cell_type": "code",
      "source": [
        "#drop duplicates\n",
        "\n",
        "df.drop_duplicates(inplace=True)\n",
        "\n",
        "#find amount of null values\n",
        "\n",
        "df.isnull().sum()\n"
      ],
      "metadata": {
        "id": "rpqoKUTqqgI8"
      },
      "id": "rpqoKUTqqgI8",
      "execution_count": null,
      "outputs": []
    },
    {
      "cell_type": "code",
      "source": [
        "#make a copy\n",
        "\n",
        "df1 = df.copy()\n",
        "df2 = df.copy()"
      ],
      "metadata": {
        "id": "wXnIjYBEsT0L"
      },
      "id": "wXnIjYBEsT0L",
      "execution_count": 22,
      "outputs": []
    },
    {
      "cell_type": "code",
      "source": [
        "#drop columns with null\n",
        "\n",
        "df2.dropna(axis = 1, inplace=True)\n",
        "df2.shape\n"
      ],
      "metadata": {
        "id": "7EIS36xutCU7"
      },
      "id": "7EIS36xutCU7",
      "execution_count": null,
      "outputs": []
    },
    {
      "cell_type": "code",
      "source": [
        "#show basic calculations from data (averages...)\n",
        "\n",
        "df.describe()"
      ],
      "metadata": {
        "id": "1g_5RaOMuA2y"
      },
      "id": "1g_5RaOMuA2y",
      "execution_count": null,
      "outputs": []
    },
    {
      "cell_type": "code",
      "source": [
        "#check correlation between numerical values\n",
        "\n",
        "df.select_dtypes(exclude= 'object').corr()"
      ],
      "metadata": {
        "id": "OAyVjN2UuTCX"
      },
      "id": "OAyVjN2UuTCX",
      "execution_count": null,
      "outputs": []
    },
    {
      "cell_type": "code",
      "source": [
        "#show certain rows\n",
        "\n",
        "df.iloc[10:14]"
      ],
      "metadata": {
        "id": "UVZ_fQxgvRoB"
      },
      "id": "UVZ_fQxgvRoB",
      "execution_count": null,
      "outputs": []
    },
    {
      "cell_type": "code",
      "source": [
        "#show date-specific date\n",
        "\n",
        "df[df['Date'] == '11/23/2011']\n",
        "\n"
      ],
      "metadata": {
        "id": "rf7uatj-vh8O"
      },
      "id": "rf7uatj-vh8O",
      "execution_count": null,
      "outputs": []
    },
    {
      "cell_type": "code",
      "source": [
        "#scatter plot\n",
        "\n",
        "df.plot(kind = 'scatter', x = 'Distance', y = 'TotalTime')"
      ],
      "metadata": {
        "id": "WCih5pFzwCw5"
      },
      "id": "WCih5pFzwCw5",
      "execution_count": null,
      "outputs": []
    },
    {
      "cell_type": "code",
      "source": [
        "df[['AvgMovingSpeed','AvgSpeed']].plot(kind='box')"
      ],
      "metadata": {
        "id": "J4wPfhpxwao2"
      },
      "id": "J4wPfhpxwao2",
      "execution_count": null,
      "outputs": []
    }
  ],
  "metadata": {
    "kernelspec": {
      "display_name": "Python 3 (ipykernel)",
      "language": "python",
      "name": "python3"
    },
    "language_info": {
      "codemirror_mode": {
        "name": "ipython",
        "version": 3
      },
      "file_extension": ".py",
      "mimetype": "text/x-python",
      "name": "python",
      "nbconvert_exporter": "python",
      "pygments_lexer": "ipython3",
      "version": "3.8.2"
    },
    "colab": {
      "provenance": [],
      "include_colab_link": true
    }
  },
  "nbformat": 4,
  "nbformat_minor": 5
}