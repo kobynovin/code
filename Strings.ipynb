{
  "nbformat": 4,
  "nbformat_minor": 0,
  "metadata": {
    "colab": {
      "provenance": [],
      "authorship_tag": "ABX9TyOPOyQ0XEe2jHIjWr7gLhf1",
      "include_colab_link": true
    },
    "kernelspec": {
      "name": "python3",
      "display_name": "Python 3"
    },
    "language_info": {
      "name": "python"
    }
  },
  "cells": [
    {
      "cell_type": "markdown",
      "metadata": {
        "id": "view-in-github",
        "colab_type": "text"
      },
      "source": [
        "<a href=\"https://colab.research.google.com/github/kobynovin/code/blob/main/Strings.ipynb\" target=\"_parent\"><img src=\"https://colab.research.google.com/assets/colab-badge.svg\" alt=\"Open In Colab\"/></a>"
      ]
    },
    {
      "cell_type": "code",
      "execution_count": null,
      "metadata": {
        "id": "3BC4KRphNlbZ"
      },
      "outputs": [],
      "source": [
        "EnterDate = input('Enter Date (MM/DD/YYYY):')\n",
        "m = EnterDate[:2]\n",
        "print(m)\n",
        "d = EnterDate[3:5]\n",
        "print(d)\n",
        "y = EnterDate[6:]\n",
        "print(y)\n"
      ]
    }
  ]
}