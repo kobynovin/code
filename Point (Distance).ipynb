{
  "nbformat": 4,
  "nbformat_minor": 0,
  "metadata": {
    "colab": {
      "provenance": [],
      "authorship_tag": "ABX9TyNx29AJ9FpFSf/q+P/R+MgR",
      "include_colab_link": true
    },
    "kernelspec": {
      "name": "python3",
      "display_name": "Python 3"
    },
    "language_info": {
      "name": "python"
    }
  },
  "cells": [
    {
      "cell_type": "markdown",
      "metadata": {
        "id": "view-in-github",
        "colab_type": "text"
      },
      "source": [
        "<a href=\"https://colab.research.google.com/github/kobynovin/code/blob/main/Distance.ipynb\" target=\"_parent\"><img src=\"https://colab.research.google.com/assets/colab-badge.svg\" alt=\"Open In Colab\"/></a>"
      ]
    },
    {
      "cell_type": "code",
      "execution_count": 13,
      "metadata": {
        "colab": {
          "base_uri": "https://localhost:8080/"
        },
        "id": "nsHUVO9PYR6t",
        "outputId": "3f17e3f9-e18d-4d8c-f671-80e2258fa9f8"
      },
      "outputs": [
        {
          "output_type": "stream",
          "name": "stdout",
          "text": [
            "5.0\n"
          ]
        }
      ],
      "source": [
        "class Point:\n",
        "  def __init__(self, x, y):\n",
        "    self.x = x\n",
        "    self.y = y\n",
        "  def distance(self,other):\n",
        "    x_diff = (self.x - other.x) ** 2\n",
        "    y_diff = (self.y - other.y) ** 2\n",
        "    return (x_diff + y_diff) ** 0.5\n",
        "\n",
        "p1 = Point(3,4)\n",
        "p2 = Point(6,8)\n",
        "print(p1.distance(p2))\n",
        "\n",
        "\n",
        "\n",
        "\n",
        ""
      ]
    },
    {
      "cell_type": "code",
      "source": [
        "#introduce 3rd variable z, for 3-D distance\n",
        "\n",
        "class Point3D(Point):\n",
        "  def __init__(self, x, y, z):\n",
        "    super().__init__(x, y)\n",
        "    self.z = z\n",
        "  def distance(self, other):\n",
        "    x_diff = (self.x - other.x) ** 2\n",
        "    y_diff = (self.y - other.y) ** 2\n",
        "    z_diff = (self.z - other.z) ** 2\n",
        "    return (x_diff + y_diff + z_diff) ** 0.5\n",
        "\n",
        "p3 = Point3D(3,4,5)\n",
        "p4 = Point3D(6,8,10)\n",
        "print(p3.distance(p4))\n"
      ],
      "metadata": {
        "id": "8aEcXzVuhP6d",
        "outputId": "49272e82-8235-41b9-cb9b-cfe7a4745a94",
        "colab": {
          "base_uri": "https://localhost:8080/"
        }
      },
      "execution_count": 12,
      "outputs": [
        {
          "output_type": "stream",
          "name": "stdout",
          "text": [
            "7.0710678118654755\n"
          ]
        }
      ]
    }
  ]
}
