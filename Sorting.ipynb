{
  "nbformat": 4,
  "nbformat_minor": 0,
  "metadata": {
    "colab": {
      "provenance": [],
      "authorship_tag": "ABX9TyMTCxb2xxmEN+VSmcdAX7lM",
      "include_colab_link": true
    },
    "kernelspec": {
      "name": "python3",
      "display_name": "Python 3"
    },
    "language_info": {
      "name": "python"
    }
  },
  "cells": [
    {
      "cell_type": "markdown",
      "metadata": {
        "id": "view-in-github",
        "colab_type": "text"
      },
      "source": [
        "<a href=\"https://colab.research.google.com/github/kobynovin/code/blob/main/Sorting.ipynb\" target=\"_parent\"><img src=\"https://colab.research.google.com/assets/colab-badge.svg\" alt=\"Open In Colab\"/></a>"
      ]
    },
    {
      "cell_type": "code",
      "execution_count": null,
      "metadata": {
        "id": "S020uEx1eLFb"
      },
      "outputs": [],
      "source": [
        "def quickSort(alist):\n",
        "  if len(alist) < 2:\n",
        "    return alist\n",
        "  else:\n",
        "    less, equal, larger = [], [], []\n",
        "\n",
        "    pivotIndex = len(alist) // 2\n",
        "\n",
        "    for item in alist:\n",
        "      if item < alist[pivotIndex]:\n",
        "        less.append(item)\n",
        "      elif item == alist[pivotIndex]:\n",
        "        equal.append(item)\n",
        "      else:\n",
        "        larger.append(item)\n",
        "\n",
        "    return quickSort(less) + equal + quickSort(larger)\n",
        "\n",
        "quickSort([8,2,3,4,6,1,6,7])\n",
        "\n"
      ]
    },
    {
      "cell_type": "code",
      "source": [
        "try:\n",
        "  a = float(input('enter a numerator: '))\n",
        "  b = float(input('enter a denomenator: '))\n",
        "  print(a/b)\n",
        "  print('Division complete')\n",
        "except ZeroDivisionError:\n",
        "  print('Cannot divide input by zero')\n",
        "except ValueError:\n",
        "  print('Input cannot be casted as float')\n",
        "except TypeError:\n",
        "  print('Invalid Input')\n",
        "except:\n",
        "  print('Unknown Error')\n",
        "\n",
        "print('Program Ends')\n"
      ],
      "metadata": {
        "id": "X4XT3DCLhP9X"
      },
      "execution_count": null,
      "outputs": []
    },
    {
      "cell_type": "code",
      "source": [
        "l = [1,3,5,7,9]\n",
        "\n",
        "try:\n",
        "  idx = int(input('Enter an Index'))\n",
        "  print(l[idx])\n",
        "except IndexError:\n",
        "  print('Index given out of bounds')\n",
        "except ValueError:\n",
        "  print('Indexes must be int')\n",
        "else:\n",
        "  print('Item found')\n",
        "finally:\n",
        "  print('This will always be displayed')"
      ],
      "metadata": {
        "id": "SCODGZQIiQBO"
      },
      "execution_count": null,
      "outputs": []
    },
    {
      "cell_type": "code",
      "source": [
        "def avg(alist):\n",
        "  try:\n",
        "    return sum(alist)/len(alist)\n",
        "  except ZeroDivisionError:\n",
        "    print('This list is empty')\n",
        "    return[]\n",
        "  except TypeError:\n",
        "    print(\"The list must be numeric only\")\n",
        "    return float('nan')\n",
        "\n",
        "a = avg([1,5,6,7,2,5])\n",
        "print(a)"
      ],
      "metadata": {
        "id": "V9_znO9Di8RS"
      },
      "execution_count": null,
      "outputs": []
    }
  ]
}