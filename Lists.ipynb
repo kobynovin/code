{
  "nbformat": 4,
  "nbformat_minor": 0,
  "metadata": {
    "colab": {
      "provenance": [],
      "authorship_tag": "ABX9TyN6g+RSu0X8N5sJLhFE/dkk",
      "include_colab_link": true
    },
    "kernelspec": {
      "name": "python3",
      "display_name": "Python 3"
    },
    "language_info": {
      "name": "python"
    }
  },
  "cells": [
    {
      "cell_type": "markdown",
      "metadata": {
        "id": "view-in-github",
        "colab_type": "text"
      },
      "source": [
        "<a href=\"https://colab.research.google.com/github/kobynovin/code/blob/main/Lists.ipynb\" target=\"_parent\"><img src=\"https://colab.research.google.com/assets/colab-badge.svg\" alt=\"Open In Colab\"/></a>"
      ]
    },
    {
      "cell_type": "code",
      "execution_count": 3,
      "metadata": {
        "colab": {
          "base_uri": "https://localhost:8080/"
        },
        "id": "9mdcDTVpEBH9",
        "outputId": "7d646528-f7d9-411e-a2d5-1ed1fa5cb242"
      },
      "outputs": [
        {
          "output_type": "stream",
          "name": "stdout",
          "text": [
            "[[7, 2, 3], [4, 5, 6], 'free']\n"
          ]
        }
      ],
      "source": [
        "L_outer = [[1,2,3],[4,5,6]]\n",
        "L_outer[0][0] = 7\n",
        "L_outer.append('free')\n",
        "print(L_outer)\n",
        "\n"
      ]
    },
    {
      "cell_type": "code",
      "source": [
        "L = []\n",
        "number = int(input('enter a value: '))\n",
        "L.append(number)\n",
        "print(L)"
      ],
      "metadata": {
        "colab": {
          "base_uri": "https://localhost:8080/"
        },
        "id": "xsk9XWUqS5Eu",
        "outputId": "1229601e-c55e-4899-e929-9df4106cbfff"
      },
      "execution_count": 8,
      "outputs": [
        {
          "output_type": "stream",
          "name": "stdout",
          "text": [
            "enter a value: 1\n",
            "[1]\n"
          ]
        }
      ]
    },
    {
      "cell_type": "code",
      "source": [
        "entry_list = []\n",
        "\n",
        "while True:\n",
        "    user_input = input(\"Enter an entry: \")\n",
        "    if user_input.lower() == 'print':\n",
        "        break\n",
        "    entry_list.append(user_input)\n",
        "print(\"Your entry list:\", entry_list)\n"
      ],
      "metadata": {
        "colab": {
          "base_uri": "https://localhost:8080/"
        },
        "id": "SB3OslpgUFnb",
        "outputId": "b954e967-06d1-4eae-c1fe-90e665f2d978"
      },
      "execution_count": 20,
      "outputs": [
        {
          "output_type": "stream",
          "name": "stdout",
          "text": [
            "Enter an entry: print\n",
            "Your entry list: []\n"
          ]
        }
      ]
    },
    {
      "cell_type": "code",
      "source": [
        "L = []\n",
        "Num = int(input(\"Enter an entry: \"))\n",
        "while Num != 0:\n",
        "  L.append(Num)\n",
        "  Num = int(input(\"Enter an entry: \"))\n",
        "print(L)\n"
      ],
      "metadata": {
        "colab": {
          "base_uri": "https://localhost:8080/"
        },
        "id": "KoKsATyPVZce",
        "outputId": "95d85e36-d526-43f4-f613-774eafa1744b"
      },
      "execution_count": 28,
      "outputs": [
        {
          "output_type": "stream",
          "name": "stdout",
          "text": [
            "Enter an entry: 4\n",
            "Enter an entry: 3\n",
            "Enter an entry: 4\n",
            "Enter an entry: 0\n",
            "[4, 3, 4]\n"
          ]
        }
      ]
    }
  ]
}