{
  "nbformat": 4,
  "nbformat_minor": 0,
  "metadata": {
    "colab": {
      "provenance": [],
      "authorship_tag": "ABX9TyPg9TK10irFmQY37TZwnxch",
      "include_colab_link": true
    },
    "kernelspec": {
      "name": "python3",
      "display_name": "Python 3"
    },
    "language_info": {
      "name": "python"
    }
  },
  "cells": [
    {
      "cell_type": "markdown",
      "metadata": {
        "id": "view-in-github",
        "colab_type": "text"
      },
      "source": [
        "<a href=\"https://colab.research.google.com/github/kobynovin/code/blob/main/PARKING_Garage.ipynb\" target=\"_parent\"><img src=\"https://colab.research.google.com/assets/colab-badge.svg\" alt=\"Open In Colab\"/></a>"
      ]
    },
    {
      "cell_type": "code",
      "source": [
        "for x in range(1, 9):\n",
        "  fee = 5 + 2.5 * x\n",
        "  if fee <= 10:\n",
        "    fee = 10\n",
        "  elif fee >= 20:\n",
        "    fee= 20\n",
        "  print(x , '------------' , fee)\n",
        "\n"
      ],
      "metadata": {
        "id": "xB97ZGf3Id0D"
      },
      "execution_count": null,
      "outputs": []
    },
    {
      "cell_type": "code",
      "execution_count": null,
      "metadata": {
        "id": "rNStUh2dETjt"
      },
      "outputs": [],
      "source": [
        "\n",
        "def rates(hours):\n",
        "    base_rate = 5\n",
        "    additional_rate_per_hour = 2.5\n",
        "    total_rate = base_rate + (hours * additional_rate_per_hour)\n",
        "    return total_rate\n",
        "\n",
        "def table():\n",
        "    print(\"Hours Parked\\tTotal Cost\")\n",
        "    for hours in range(1, 11):\n",
        "        total_cost = rates(hours)\n",
        "        print(f\"{hours}\\t\\t${total_cost:.2f}\")\n",
        "\n",
        "if __name__ == \"__main__\":\n",
        "    table()\n"
      ]
    }
  ]
}