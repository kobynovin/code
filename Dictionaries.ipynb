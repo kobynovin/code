{
  "nbformat": 4,
  "nbformat_minor": 0,
  "metadata": {
    "colab": {
      "provenance": [],
      "authorship_tag": "ABX9TyPNuDeswub8zx8LYJQm5Doi",
      "include_colab_link": true
    },
    "kernelspec": {
      "name": "python3",
      "display_name": "Python 3"
    },
    "language_info": {
      "name": "python"
    }
  },
  "cells": [
    {
      "cell_type": "markdown",
      "metadata": {
        "id": "view-in-github",
        "colab_type": "text"
      },
      "source": [
        "<a href=\"https://colab.research.google.com/github/kobynovin/code/blob/main/Dictionaries.ipynb\" target=\"_parent\"><img src=\"https://colab.research.google.com/assets/colab-badge.svg\" alt=\"Open In Colab\"/></a>"
      ]
    },
    {
      "cell_type": "code",
      "execution_count": 36,
      "metadata": {
        "colab": {
          "base_uri": "https://localhost:8080/"
        },
        "id": "KKVyQRZL-fBg",
        "outputId": "74524b1f-554c-4278-f402-d1375aa72037"
      },
      "outputs": [
        {
          "output_type": "stream",
          "name": "stdout",
          "text": [
            "{'Bob': 88, 'tracy': 93, 'erik': 96}\n"
          ]
        }
      ],
      "source": [
        "#dictionary\n",
        "\n",
        "grades = {\n",
        "    'alice': 91,\n",
        "    'Bob': 88,\n",
        "    'tracy': 93,\n",
        "    'erik': 84\n",
        "}\n",
        "\n",
        "grades['erik'] = 96                  #either can assign or update value if key already exists (keys are UNIQUE and immutable)\n",
        "del grades['alice']\n",
        "print(grades)\n"
      ]
    },
    {
      "cell_type": "code",
      "source": [
        "for value in grades.values():\n",
        "  print(value)\n",
        "\n",
        "for key in grades.keys():\n",
        "  print(key)"
      ],
      "metadata": {
        "colab": {
          "base_uri": "https://localhost:8080/"
        },
        "id": "Bih3wInSAOO8",
        "outputId": "97f84c79-2035-42a3-c8d2-b8a273db5bb4"
      },
      "execution_count": 20,
      "outputs": [
        {
          "output_type": "stream",
          "name": "stdout",
          "text": [
            "88\n",
            "93\n",
            "96\n",
            "Bob\n",
            "tracy\n",
            "erik\n"
          ]
        }
      ]
    },
    {
      "cell_type": "code",
      "source": [
        "for key, value in grades.items():\n",
        "  print(f'Key: {key}, Value: {value}')\n",
        "\n"
      ],
      "metadata": {
        "id": "QUd207fbBP2O"
      },
      "execution_count": null,
      "outputs": []
    },
    {
      "cell_type": "code",
      "source": [
        "months = {1: \"January\", 2: \"February\", 3: \"March\"}\n",
        "\n",
        "print(f' The first month in a year is {months[1]}')"
      ],
      "metadata": {
        "colab": {
          "base_uri": "https://localhost:8080/"
        },
        "id": "o4nObS0dBURX",
        "outputId": "1f330b64-7591-4fb5-ab8d-80b64a622322"
      },
      "execution_count": 17,
      "outputs": [
        {
          "output_type": "stream",
          "name": "stdout",
          "text": [
            " The first month in a year is January\n"
          ]
        }
      ]
    },
    {
      "cell_type": "code",
      "source": [
        "import pprint\n",
        "\n",
        "numbers = [1, 2, 3, 4, 5, 6, 7, 8, 9, 10, 11, 12]\n",
        "names = [\"Jan\", \"Feb\", \"Mar\", \"Apr\", \"May\", \"Jun\", \"Jul\", \"Aug\", \"Sep\", \"Oct\", \"Nov\", \"Dec\"]\n",
        "\n",
        "months = {}\n",
        "\n",
        "for x in range(len(numbers)):\n",
        "    months[numbers[x]] = names[x]\n",
        "\n",
        "pprint.pprint(months)\n"
      ],
      "metadata": {
        "colab": {
          "base_uri": "https://localhost:8080/"
        },
        "id": "kVCh1gW_CT9D",
        "outputId": "b731caf6-85bd-4552-9be9-b4a93ba4bc1f"
      },
      "execution_count": 47,
      "outputs": [
        {
          "output_type": "stream",
          "name": "stdout",
          "text": [
            "{1: 'Jan',\n",
            " 2: 'Feb',\n",
            " 3: 'Mar',\n",
            " 4: 'Apr',\n",
            " 5: 'May',\n",
            " 6: 'Jun',\n",
            " 7: 'Jul',\n",
            " 8: 'Aug',\n",
            " 9: 'Sep',\n",
            " 10: 'Oct',\n",
            " 11: 'Nov',\n",
            " 12: 'Dec'}\n"
          ]
        }
      ]
    },
    {
      "cell_type": "code",
      "source": [
        "numbers = [1, 2, 3, 4, 5, 6, 7, 8, 9, 10, 11, 12]\n",
        "names = [\"Jan\", \"Feb\", \"Mar\", \"Apr\", \"May\", \"Jun\", \"Jul\", \"Aug\", \"Sep\", \"Oct\", \"Nov\", \"Dec\"]\n",
        "\n",
        "months = {numbers[x]: names[x] for x in range(len(numbers))}\n",
        "print(months)"
      ],
      "metadata": {
        "colab": {
          "base_uri": "https://localhost:8080/"
        },
        "id": "LdElVRkeFoMO",
        "outputId": "4451de9b-8aee-4636-d317-539d91c4feba"
      },
      "execution_count": 35,
      "outputs": [
        {
          "output_type": "stream",
          "name": "stdout",
          "text": [
            "{1: 'Jan', 2: 'Feb', 3: 'Mar', 4: 'Apr', 5: 'May', 6: 'Jun', 7: 'Jul', 8: 'Aug', 9: 'Sep', 10: 'Oct', 11: 'Nov', 12: 'Dec'}\n"
          ]
        }
      ]
    },
    {
      "cell_type": "code",
      "source": [],
      "metadata": {
        "id": "VCQRN6CKHijR"
      },
      "execution_count": null,
      "outputs": []
    }
  ]
}