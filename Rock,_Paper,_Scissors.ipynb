{
  "nbformat": 4,
  "nbformat_minor": 0,
  "metadata": {
    "colab": {
      "provenance": [],
      "authorship_tag": "ABX9TyOXvKFX9TzUPCorUZbl/525",
      "include_colab_link": true
    },
    "kernelspec": {
      "name": "python3",
      "display_name": "Python 3"
    },
    "language_info": {
      "name": "python"
    }
  },
  "cells": [
    {
      "cell_type": "markdown",
      "metadata": {
        "id": "view-in-github",
        "colab_type": "text"
      },
      "source": [
        "<a href=\"https://colab.research.google.com/github/kobynovin/code/blob/main/Rock%2C_Paper%2C_Scissors.ipynb\" target=\"_parent\"><img src=\"https://colab.research.google.com/assets/colab-badge.svg\" alt=\"Open In Colab\"/></a>"
      ]
    },
    {
      "cell_type": "code",
      "execution_count": 18,
      "metadata": {
        "colab": {
          "base_uri": "https://localhost:8080/"
        },
        "id": "PRJdqi20ajBr",
        "outputId": "1e9a0a7c-a767-4e2e-c5fe-46674db6f841"
      },
      "outputs": [
        {
          "name": "stdout",
          "output_type": "stream",
          "text": [
            "Start? (y: yes n: no)y\n",
            "Choose: Rock, Paper, or Scissors? s\n",
            "The PC chose paper\n",
            "User wins\n",
            "Continue? (y: yes n: no)n\n"
          ]
        }
      ],
      "source": [
        "userinput = input('Start? (y: yes n: no)')\n",
        "while userinput == 'y':\n",
        "  import random\n",
        "  pc_choice = random.choice(['rock','paper','scissors']).lower()\n",
        "  x= input('Choose: Rock, Paper, or Scissors? ').lower()\n",
        "  print(f'The PC chose {pc_choice}')\n",
        "  if pc_choice == x:\n",
        "    print('Tie')\n",
        "  elif pc_choice == 'rock' and x == 'scissors' or pc_choice == 'scissors' and x == 'paper' or pc_choice == 'paper' and x == 'rock':\n",
        "    print('PC wins')\n",
        "  else:\n",
        "    print('User wins')\n",
        "  userinput = input('Continue? (y: yes n: no)')\n",
        "\n",
        "\n"
      ]
    }
  ]
}