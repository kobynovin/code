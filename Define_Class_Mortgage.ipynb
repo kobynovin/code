{
  "nbformat": 4,
  "nbformat_minor": 0,
  "metadata": {
    "colab": {
      "provenance": [],
      "authorship_tag": "ABX9TyNYg0XObSbZnlctGseQ39pw",
      "include_colab_link": true
    },
    "kernelspec": {
      "name": "python3",
      "display_name": "Python 3"
    },
    "language_info": {
      "name": "python"
    }
  },
  "cells": [
    {
      "cell_type": "markdown",
      "metadata": {
        "id": "view-in-github",
        "colab_type": "text"
      },
      "source": [
        "<a href=\"https://colab.research.google.com/github/kobynovin/code/blob/main/Define_Class_Mortgage.ipynb\" target=\"_parent\"><img src=\"https://colab.research.google.com/assets/colab-badge.svg\" alt=\"Open In Colab\"/></a>"
      ]
    },
    {
      "cell_type": "code",
      "execution_count": 7,
      "metadata": {
        "colab": {
          "base_uri": "https://localhost:8080/"
        },
        "id": "VhnlzYYJ7fJh",
        "outputId": "0ac7e7cd-93b3-4cde-8cfe-11b1eaaa92e7"
      },
      "outputs": [
        {
          "output_type": "stream",
          "name": "stdout",
          "text": [
            "The monthly mortgage payment is: $5995.505251527569\n"
          ]
        }
      ],
      "source": [
        "class Mortgage:\n",
        "  def __init__(self, initial_loan, term_years, annual_rate):\n",
        "    self.initial_loan = initial_loan\n",
        "    self.term_months = term_years * 12\n",
        "    self.monthly_rate = annual_rate / 100 / 12\n",
        "\n",
        "  def calculate_monthly_payment(self):\n",
        "    B = self.initial_loan\n",
        "    n = self.term_months\n",
        "    r = self.monthly_rate\n",
        "\n",
        "    if r == 0:\n",
        "      return B / n\n",
        "\n",
        "    else:\n",
        "      monthly_payment = B * (r * (1+r) ** n) / ((1+r) ** n-1)\n",
        "      return monthly_payment\n",
        "\n",
        "mortgage = Mortgage(1000000, 30, 6)\n",
        "monthly_payment = mortgage.calculate_monthly_payment()\n",
        "print(f'The monthly mortgage payment is: ${monthly_payment}')\n",
        "\n",
        ""
      ]
    }
  ]
}