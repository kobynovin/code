{
  "nbformat": 4,
  "nbformat_minor": 0,
  "metadata": {
    "colab": {
      "provenance": [],
      "authorship_tag": "ABX9TyOt+Bw7Z0SZb4eh0MI1aYsn",
      "include_colab_link": true
    },
    "kernelspec": {
      "name": "python3",
      "display_name": "Python 3"
    },
    "language_info": {
      "name": "python"
    }
  },
  "cells": [
    {
      "cell_type": "markdown",
      "metadata": {
        "id": "view-in-github",
        "colab_type": "text"
      },
      "source": [
        "<a href=\"https://colab.research.google.com/github/kobynovin/code/blob/main/Calculator.ipynb\" target=\"_parent\"><img src=\"https://colab.research.google.com/assets/colab-badge.svg\" alt=\"Open In Colab\"/></a>"
      ]
    },
    {
      "cell_type": "code",
      "execution_count": null,
      "metadata": {
        "colab": {
          "base_uri": "https://localhost:8080/"
        },
        "id": "2gLXW9Jz4vLn",
        "outputId": "0f954663-1aac-4522-df26-64fe50c276c5"
      },
      "outputs": [
        {
          "name": "stdout",
          "output_type": "stream",
          "text": [
            "Start? (y: yes n: no)y\n",
            "Pick a number26\n",
            "Pick a function: *\n",
            "Pick a number19\n",
            "494\n",
            "Continue? (y: yes n: no)y\n"
          ]
        }
      ],
      "source": [
        "userinput = input('Start? (y: yes n: no)')\n",
        "while userinput == 'y':\n",
        "  n1 = int(input('Pick a number'))\n",
        "  function = input('Pick a function: ')\n",
        "  n2 = int(input('Pick a number'))\n",
        "  if function == '+' :\n",
        "    print(n1 + n2)\n",
        "  elif function == '-' :\n",
        "    print(n1 - n2)\n",
        "  elif function == '/' :\n",
        "    print(n1 / n2)\n",
        "  elif function == '*' :\n",
        "    print(n1 * n2)\n",
        "  elif function == '//' :\n",
        "    print(n1 // n2)\n",
        "  elif function == '%' :\n",
        "    print(n1 % n2)\n",
        "  elif function == '**' :\n",
        "    print(n1 ** n2)\n",
        "  userinput = input('Continue? (y: yes n: no)')"
      ]
    }
  ]
}