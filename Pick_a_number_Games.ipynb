{
  "nbformat": 4,
  "nbformat_minor": 0,
  "metadata": {
    "colab": {
      "provenance": [],
      "include_colab_link": true
    },
    "kernelspec": {
      "name": "python3",
      "display_name": "Python 3"
    },
    "language_info": {
      "name": "python"
    }
  },
  "cells": [
    {
      "cell_type": "markdown",
      "metadata": {
        "id": "view-in-github",
        "colab_type": "text"
      },
      "source": [
        "<a href=\"https://colab.research.google.com/github/kobynovin/code/blob/main/Pick_a_number_Games.ipynb\" target=\"_parent\"><img src=\"https://colab.research.google.com/assets/colab-badge.svg\" alt=\"Open In Colab\"/></a>"
      ]
    },
    {
      "cell_type": "code",
      "source": [
        "\n",
        "x= int(input('Pick a number:'))\n",
        "if x%2 == 0: # <-- first checks if x%2 equals to zero\n",
        "    if x%3 == 0: # <-- if x%2 indeed equals to zero, then checks if x%3 is also zero\n",
        "        print('Divisible by 2 and 3')\n",
        "    else:\n",
        "        print('Divisible by 2 and not by 3')\n",
        "elif x%3 == 0:\n",
        "    print('Divisible by 3 and not by 2')\n",
        "else:\n",
        "    print('Not divisible by either 2 or 3')\n",
        "\n"
      ],
      "metadata": {
        "id": "OEtEw-98B8NT"
      },
      "execution_count": null,
      "outputs": []
    },
    {
      "cell_type": "code",
      "source": [
        "x = int(input(\"Give value for x: \"))\n",
        "y = int(input(\"Give value for y: \"))\n",
        "z = int(input(\"Give value for z: \"))\n",
        "\n",
        "# Begin by assigning a provisional value in the variable answer, hypothesizing that all x,y,z are even...\n",
        "\n",
        "answer = min(x, y, z)\n",
        "if x%2 != 0:\n",
        "  answer = x\n",
        "if y%2 != 0 and y > answer:\n",
        "  answer = y\n",
        "if z%2 != 0 and z > answer:\n",
        "  answer = z\n",
        "if x%2 == 0 and y%2 == 0 and z%2 == 0:\n",
        "  print(f'The min even value is: {answer}')\n",
        "else:\n",
        "  print(f'The maximum odd value is: {answer}')"
      ],
      "metadata": {
        "id": "DtFySE86CWov"
      },
      "execution_count": null,
      "outputs": []
    }
  ]
}